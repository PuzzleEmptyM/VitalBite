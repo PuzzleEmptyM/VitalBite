{
 "cells": [
  {
   "cell_type": "markdown",
   "metadata": {},
   "source": [
    "# Chat Testing"
   ]
  },
  {
   "cell_type": "markdown",
   "metadata": {},
   "source": [
    "Here I am going to be figuring out all of the different aspects of how the chatbot will work."
   ]
  },
  {
   "cell_type": "code",
   "execution_count": 4,
   "metadata": {},
   "outputs": [],
   "source": [
    "from openai import OpenAI"
   ]
  },
  {
   "cell_type": "code",
   "execution_count": 5,
   "metadata": {},
   "outputs": [],
   "source": [
    "# Load Chat API Key\n",
    "from dotenv import load_dotenv\n",
    "import os\n",
    "\n",
    "# Load the .env file\n",
    "load_dotenv(dotenv_path=\"./.env\")\n",
    "\n",
    "# Access the OPENAI_API_KEY variable\n",
    "OPENAI_API_KEY = os.getenv(\"OPENAI_API_KEY\")"
   ]
  },
  {
   "cell_type": "markdown",
   "metadata": {},
   "source": [
    "### Basic Load of OpenAI"
   ]
  },
  {
   "cell_type": "code",
   "execution_count": 6,
   "metadata": {},
   "outputs": [
    {
     "name": "stdout",
     "output_type": "stream",
     "text": [
      "Code calls itself back,  \n",
      "Layers of logic unfold,  \n",
      "Endless depth of thought.\n"
     ]
    }
   ],
   "source": [
    "client = OpenAI(api_key=OPENAI_API_KEY)\n",
    "\n",
    "try:\n",
    "  completion = client.chat.completions.create(\n",
    "      model=\"gpt-4o-mini\",\n",
    "      messages=[\n",
    "          {\"role\": \"system\", \"content\": \"You are a helpful assistant.\"},\n",
    "          {\n",
    "              \"role\": \"user\",\n",
    "              \"content\": \"Write a haiku about recursion in programming.\"\n",
    "          }\n",
    "      ]\n",
    "  )\n",
    "\n",
    "  print(completion.choices[0].message.content)\n",
    "except Exception as e:\n",
    "    print(f\"An error occurred: {e}\")"
   ]
  },
  {
   "cell_type": "markdown",
   "metadata": {},
   "source": [
    "### Differentiate between Recipe, General, or Lifestyle"
   ]
  },
  {
   "cell_type": "code",
   "execution_count": 14,
   "metadata": {},
   "outputs": [
    {
     "name": "stdout",
     "output_type": "stream",
     "text": [
      "lifestyle\n"
     ]
    }
   ],
   "source": [
    "user_question = \"How can I make my life easier with the diets I need to follow?\"\n",
    "\n",
    "user_diet = \"celiac diet and low fodmap diet\"\n",
    "\n",
    "rules = \"\"\"\n",
    "1. You are the first step in a longer chatbot which has the goal of helping users\n",
    "with specific dietary needs to answer general questions about the dietary needs, provide lifestyle advice \n",
    "in the context of said dietary need, or provide recipes specific to the user's needs.\n",
    "2. Your job is only to differentiate the requests, so the next request to the chatbot will be able to have\n",
    "a specific format.\n",
    "For example, recipes will be returned in a different format from lifestyle advice, which will be\n",
    "different from general queries.\n",
    "3. Your job is to differentiate between general queries, lifestyle tips, and recipe requests.\n",
    "4. If someone is asking for a recipe, you will respond with only 'recipe'.\n",
    "5. If someone is asking general questions about their dietary needs, you will answer with \"general\"\n",
    "6. If someone is asking about things that will be useful general knowledge living with their dietary need, you will answer \"lifestyle\"\n",
    "7. Anything the user asks which does not pertain their diet, a diet, or the lifestyle associated with that diet, or claryfying questions, answer \"not applicable\"\n",
    "\"\"\"\n",
    "\n",
    "\n",
    "\n",
    "\n",
    "try:\n",
    "  completion = client.chat.completions.create(\n",
    "      model=\"gpt-4o-mini\",\n",
    "      messages=[\n",
    "          {\"role\": \"system\", \"content\": f\"{rules}\"},\n",
    "          {\"role\": \"assistant\", \"content\": f\"{user_diet}\"},\n",
    "          {\n",
    "              \"role\": \"user\",\n",
    "              \"content\": f\"{user_question}\"\n",
    "          }\n",
    "      ]\n",
    "  )\n",
    "\n",
    "  print(completion.choices[0].message.content)\n",
    "except Exception as e:\n",
    "    print(f\"An error occurred: {e}\")"
   ]
  },
  {
   "cell_type": "code",
   "execution_count": 2,
   "metadata": {},
   "outputs": [
    {
     "ename": "SyntaxError",
     "evalue": "invalid syntax (1364271588.py, line 1)",
     "output_type": "error",
     "traceback": [
      "\u001b[0;36m  Cell \u001b[0;32mIn[2], line 1\u001b[0;36m\u001b[0m\n\u001b[0;31m    not\u001b[0m\n\u001b[0m       ^\u001b[0m\n\u001b[0;31mSyntaxError\u001b[0m\u001b[0;31m:\u001b[0m invalid syntax\n"
     ]
    }
   ],
   "source": [
    "not"
   ]
  }
 ],
 "metadata": {
  "kernelspec": {
   "display_name": "base",
   "language": "python",
   "name": "python3"
  },
  "language_info": {
   "codemirror_mode": {
    "name": "ipython",
    "version": 3
   },
   "file_extension": ".py",
   "mimetype": "text/x-python",
   "name": "python",
   "nbconvert_exporter": "python",
   "pygments_lexer": "ipython3",
   "version": "3.11.5"
  }
 },
 "nbformat": 4,
 "nbformat_minor": 2
}

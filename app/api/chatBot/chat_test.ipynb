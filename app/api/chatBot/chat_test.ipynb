{
 "cells": [
  {
   "cell_type": "markdown",
   "metadata": {},
   "source": [
    "# Chat Testing"
   ]
  },
  {
   "cell_type": "markdown",
   "metadata": {},
   "source": [
    "Here I am going to be figuring out all of the different aspects of how the chatbot will work."
   ]
  },
  {
   "cell_type": "code",
   "execution_count": 18,
   "metadata": {},
   "outputs": [],
   "source": [
    "from openai import OpenAI\n",
    "import json"
   ]
  },
  {
   "cell_type": "code",
   "execution_count": 34,
   "metadata": {},
   "outputs": [],
   "source": [
    "# Load Chat API Key\n",
    "from dotenv import load_dotenv\n",
    "import os\n",
    "\n",
    "# Load the .env file\n",
    "load_dotenv(dotenv_path=\"./.env\")\n",
    "\n",
    "# Access the OPENAI_API_KEY variable\n",
    "OPENAI_API_KEY = os.getenv(\"OPENAI_API_KEY\")\n",
    "\n",
    "DATABASE_URL = os.getenv(\"POSTGRES_URL\")\n",
    "DATABASE_USER = os.getenv(\"POSTGRES_USER\")\n",
    "DATABASE_PASS = os.getenv(\"POSTGRES_PASSWORD\")\n",
    "DATABASE_DB = os.getenv(\"POSTGRES_DATABASE\")\n",
    "DATABASE_HOST = os.getenv(\"POSTGRES_HOST\")\n"
   ]
  },
  {
   "cell_type": "markdown",
   "metadata": {},
   "source": [
    "### Basic Load of OpenAI"
   ]
  },
  {
   "cell_type": "code",
   "execution_count": 6,
   "metadata": {},
   "outputs": [
    {
     "name": "stdout",
     "output_type": "stream",
     "text": [
      "Code calls itself back,  \n",
      "Layers of logic unfold,  \n",
      "Endless depth of thought.\n"
     ]
    }
   ],
   "source": [
    "client = OpenAI(api_key=OPENAI_API_KEY)\n",
    "\n",
    "try:\n",
    "  completion = client.chat.completions.create(\n",
    "      model=\"gpt-4o-mini\",\n",
    "      messages=[\n",
    "          {\"role\": \"system\", \"content\": \"You are a helpful assistant.\"},\n",
    "          {\n",
    "              \"role\": \"user\",\n",
    "              \"content\": \"Write a haiku about recursion in programming.\"\n",
    "          }\n",
    "      ]\n",
    "  )\n",
    "\n",
    "  print(completion.choices[0].message.content)\n",
    "except Exception as e:\n",
    "    print(f\"An error occurred: {e}\")"
   ]
  },
  {
   "cell_type": "markdown",
   "metadata": {},
   "source": [
    "### Differentiate between Recipe, General, or Lifestyle"
   ]
  },
  {
   "cell_type": "code",
   "execution_count": 11,
   "metadata": {},
   "outputs": [
    {
     "name": "stdout",
     "output_type": "stream",
     "text": [
      "lifestyle\n"
     ]
    }
   ],
   "source": [
    "user_question = \"How can I make my life easier with the diets I need to follow?\"\n",
    "\n",
    "user_diet = \"celiac diet and low fodmap diet\"\n",
    "\n",
    "rules = \"\"\"\n",
    "1. You are the first step in a longer chatbot which has the goal of helping users\n",
    "with specific dietary needs to answer general questions about the dietary needs, provide lifestyle advice \n",
    "in the context of said dietary need, or provide recipes specific to the user's needs.\n",
    "2. Your job is only to differentiate the requests, so the next request to the chatbot will be able to have\n",
    "a specific format.\n",
    "For example, recipes will be returned in a different format from lifestyle advice, which will be\n",
    "different from general queries.\n",
    "3. Your job is to differentiate between general queries, lifestyle tips, and recipe requests.\n",
    "4. If someone is asking for a recipe, you will respond with only 'recipe'.\n",
    "5. If someone is asking general questions about their dietary needs, you will answer with \"general\"\n",
    "6. If someone is asking about things that will be useful general knowledge living with their dietary need, you will answer \"lifestyle\"\n",
    "7. Anything the user asks which does not pertain their diet, a diet, or the lifestyle associated with that diet, or claryfying questions, answer \"not applicable\"\n",
    "\"\"\"\n",
    "\n",
    "\n",
    "\n",
    "\n",
    "try:\n",
    "  completion = client.chat.completions.create(\n",
    "      model=\"gpt-4o-mini\",\n",
    "      messages=[\n",
    "          {\"role\": \"system\", \"content\": f\"{rules}\"},\n",
    "          {\"role\": \"assistant\", \"content\": f\"{user_diet}\"},\n",
    "          {\n",
    "              \"role\": \"user\",\n",
    "              \"content\": f\"{user_question}\"\n",
    "          }\n",
    "      ]\n",
    "  )\n",
    "\n",
    "  print(completion.choices[0].message.content)\n",
    "  query = completion.choices[0].message.content\n",
    "except Exception as e:\n",
    "    print(f\"An error occurred: {e}\")\n"
   ]
  },
  {
   "cell_type": "markdown",
   "metadata": {},
   "source": [
    "### Recipe Responses"
   ]
  },
  {
   "cell_type": "code",
   "execution_count": 25,
   "metadata": {},
   "outputs": [
    {
     "name": "stdout",
     "output_type": "stream",
     "text": [
      "{\"Recipe\":\"Quick Chicken and Vegetable Stir-Fry\",\"Ingredients\":[\"1 lb chicken breast, sliced into thin strips\",\"2 cups mixed vegetables (bell peppers, broccoli, carrots)\",\"2 tablespoons olive oil\",\"3 cloves garlic, minced\",\"2 tablespoons soy sauce (gluten-free)\",\"Salt and pepper to taste\",\"1 teaspoon sesame oil (optional)\"],\"Prep Time\":15,\"Instructions\":\"1. Heat olive oil in a large skillet over medium-high heat.\\n2. Add minced garlic and stir for about 30 seconds until fragrant.\\n3. Toss in the sliced chicken and cook until no longer pink, around 5-7 minutes.\\n4. Add mixed vegetables and stir-fry for an additional 5-7 minutes until vegetables are tender.\\n5. Pour in gluten-free soy sauce, and add salt, pepper, and sesame oil (if using). Stir well for 2 minutes.\\n6. Serve hot, and enjoy your quick meal!\"}\n"
     ]
    }
   ],
   "source": [
    "# Create the chat completion request\n",
    "response = client.chat.completions.create(\n",
    "    model=\"gpt-4o-mini\",  \n",
    "    messages=[\n",
    "        {\n",
    "            \"role\": \"system\",\n",
    "            \"content\": \"You give short recipes given certain dietary conditions.\"\n",
    "        },\n",
    "        {\n",
    "            \"role\": \"assistant\",\n",
    "            \"content\": \"User has gluten-free preference\"\n",
    "        },\n",
    "        {\n",
    "            \"role\": \"user\",\n",
    "            \"content\": \"I would like a basic recipe with chicken and vegetables which takes less than 30 minutes.\"\n",
    "        }\n",
    "    ],\n",
    "    response_format={\n",
    "        \"type\": \"json_schema\",\n",
    "        \"json_schema\": {\n",
    "            \"name\": \"recipe_schema\",\n",
    "            \"schema\": {\n",
    "                \"type\": \"object\",\n",
    "                \"properties\": {\n",
    "                    \"Recipe\": {\n",
    "                        \"description\": \"The name of the recipe\",\n",
    "                        \"type\": \"string\"\n",
    "                    },\n",
    "                    \"Ingredients\": {\n",
    "                        \"description\": \"list of ingredients with measurements if needed\",\n",
    "                        \"type\": \"array\",\n",
    "                        \"items\": {\n",
    "                            \"type\": \"string\"\n",
    "                        }\n",
    "                    },\n",
    "                    \"Prep Time\": {\n",
    "                        \"description\": \"time in minutes to prepare this recipe\",\n",
    "                        \"type\": \"integer\"\n",
    "                    },\n",
    "                    \"Instructions\": {\n",
    "                        \"description\": \"Instructions to create this recipe\",\n",
    "                        \"type\": \"string\"\n",
    "                    }\n",
    "                },\n",
    "                \"additionalProperties\": False\n",
    "            }\n",
    "        }\n",
    "    }\n",
    ")\n",
    "\n",
    "# Print the response\n",
    "print(response.choices[0].message.content)\n",
    "recipe = json.loads(response.choices[0].message.content)"
   ]
  },
  {
   "cell_type": "code",
   "execution_count": 26,
   "metadata": {},
   "outputs": [
    {
     "data": {
      "text/plain": [
       "'Quick Chicken and Vegetable Stir-Fry'"
      ]
     },
     "execution_count": 26,
     "metadata": {},
     "output_type": "execute_result"
    }
   ],
   "source": [
    "recipe['Recipe']"
   ]
  },
  {
   "cell_type": "code",
   "execution_count": null,
   "metadata": {},
   "outputs": [],
   "source": [
    "import pg8000\n"
   ]
  },
  {
   "cell_type": "code",
   "execution_count": null,
   "metadata": {},
   "outputs": [
    {
     "name": "stdout",
     "output_type": "stream",
     "text": [
      "([1, 'bob@example.com', 'hashed_password'], [2, 'taylor@example.com', 'hashed_password'])\n",
      "Tables in the database: ['topics', 'questions', 'titles', 'favorites', 'watchlater', 'activities', 'users', 'user_preferences', 'diet_types', 'recipes', 'tips', 'user_context']\n",
      "Columns in 'users' table: ['uid', 'email', 'password']\n"
     ]
    }
   ],
   "source": [
    "conn = pg8000.connect(\n",
    "    user=DATABASE_USER,\n",
    "    password=DATABASE_PASS,\n",
    "    host=DATABASE_HOST,\n",
    "    database=DATABASE_DB\n",
    ")\n",
    "cursor = conn.cursor()\n",
    "\n",
    "# Fetch table names from Database\n",
    "cursor.execute(\"\"\"\n",
    "    SELECT table_name \n",
    "    FROM information_schema.tables \n",
    "    WHERE table_schema = 'public';\n",
    "\"\"\")\n",
    "tables = cursor.fetchall()\n",
    "print(\"Tables in the database:\", [table[0] for table in tables])\n",
    "\n",
    "# Fetch Column names from user table\n",
    "cursor.execute(\"\"\"\n",
    "    SELECT column_name \n",
    "    FROM information_schema.columns \n",
    "    WHERE table_name = 'users';\n",
    "\"\"\")\n",
    "columns = cursor.fetchall()\n",
    "print(\"Columns in 'users' table:\", [col[0] for col in columns])\n",
    "\n",
    "# Example query: Fetch User table\n",
    "cursor.execute(\"SELECT * FROM users LIMIT 5;\")\n",
    "rows = cursor.fetchall()\n",
    "print(rows)\n",
    "\n",
    "\n",
    "\n",
    "# Close the connection\n",
    "conn.close()\n",
    "\n",
    "# Return fetched context as a dictionary\n",
    "# return {key: value for key, value in rows}"
   ]
  }
 ],
 "metadata": {
  "kernelspec": {
   "display_name": "base",
   "language": "python",
   "name": "python3"
  },
  "language_info": {
   "codemirror_mode": {
    "name": "ipython",
    "version": 3
   },
   "file_extension": ".py",
   "mimetype": "text/x-python",
   "name": "python",
   "nbconvert_exporter": "python",
   "pygments_lexer": "ipython3",
   "version": "3.11.5"
  }
 },
 "nbformat": 4,
 "nbformat_minor": 2
}
